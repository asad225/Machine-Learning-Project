{
 "cells": [
  {
   "cell_type": "code",
   "execution_count": 7,
   "metadata": {
    "id": "4lcxJ3fuk4bF"
   },
   "outputs": [],
   "source": [
    "import numpy as np\n",
    "import pandas as pd\n",
    "import pickle"
   ]
  },
  {
   "cell_type": "code",
   "execution_count": 2,
   "metadata": {
    "id": "HlpPn46fATVJ"
   },
   "outputs": [],
   "source": [
    "dataset = pd.read_csv('The_Grades_Dataset.csv')\n",
    "for column in dataset:\n",
    "    dataset[column]=dataset[column].replace('A+',4.0)\n",
    "    dataset[column]=dataset[column].replace('A',4.0)\n",
    "    dataset[column]=dataset[column].replace('A-',3.7)\n",
    "    dataset[column]=dataset[column].replace('B+',3.3)\n",
    "    dataset[column]=dataset[column].replace('B',3.0)\n",
    "    dataset[column]=dataset[column].replace('B-',2.7)\n",
    "    dataset[column]=dataset[column].replace('C+',2.3)\n",
    "    dataset[column]=dataset[column].replace('C',2.0)\n",
    "    dataset[column]=dataset[column].replace('C-',1.7)\n",
    "    dataset[column]=dataset[column].replace('D+',1.3)\n",
    "    dataset[column]=dataset[column].replace('D',1.0)\n",
    "    dataset[column]=dataset[column].replace('D-',0.7)\n",
    "    dataset[column]=dataset[column].replace('WU',0)\n",
    "    dataset[column]=dataset[column].replace('W',0)\n",
    "    dataset[column]=dataset[column].replace('F',0)\n",
    "    dataset[column]=dataset[column].replace('I',0)"
   ]
  },
  {
   "cell_type": "code",
   "execution_count": 3,
   "metadata": {
    "id": "xhsHY1FwlIOi"
   },
   "outputs": [],
   "source": [
    "\n",
    "X2 = dataset.iloc[:, 1:23].values\n",
    "y2 = dataset.iloc[:, -1].values"
   ]
  },
  {
   "cell_type": "code",
   "execution_count": null,
   "metadata": {
    "colab": {
     "base_uri": "https://localhost:8080/"
    },
    "id": "8pkdFjh0lMle",
    "outputId": "36831c6f-a9c9-4101-9ed4-74cefe0c6460"
   },
   "outputs": [],
   "source": []
  },
  {
   "cell_type": "code",
   "execution_count": 4,
   "metadata": {
    "colab": {
     "base_uri": "https://localhost:8080/"
    },
    "id": "pk8GhDRzlOb8",
    "outputId": "3a909c3b-1072-4f13-f3b1-8d4941896f79"
   },
   "outputs": [
    {
     "name": "stdout",
     "output_type": "stream",
     "text": [
      "[[4.  1.  1.3 1.  2.7 2.  1.  4.  1.3 1.  3.3 2.3 2.7 1.7 1.3 1.3 1.  2.\n",
      "  1.  2.7 2.  1. ]\n",
      " [4.  3.  4.  2.7 3.3 4.  2.7 3.3 3.7 3.7 2.7 3.7 4.  4.  4.  4.  4.  4.\n",
      "  3.7 4.  3.7 4. ]\n",
      " [1.  2.3 1.3 1.  1.  3.7 1.3 1.7 1.  2.3 1.  3.  1.3 2.7 1.  2.  3.3 2.3\n",
      "  1.  1.3 1.  1. ]\n",
      " [3.7 3.7 3.7 3.3 4.  4.  3.7 3.3 4.  3.7 2.  4.  4.  3.7 3.7 3.7 2.7 4.\n",
      "  3.7 4.  3.7 3.7]\n",
      " [4.  2.7 3.  1.3 2.3 3.7 2.3 3.  3.3 3.3 1.7 3.7 2.7 3.3 3.7 3.3 3.  3.7\n",
      "  3.  3.7 3.7 2.3]\n",
      " [2.7 1.7 3.7 1.  3.7 3.  4.  3.3 3.7 3.3 3.7 4.  2.  2.3 1.7 2.7 2.7 3.3\n",
      "  2.  4.  2.3 1.7]\n",
      " [3.3 3.3 2.3 2.  2.  3.7 1.7 3.7 3.  3.7 3.3 4.  3.3 3.3 2.  3.7 3.3 3.7\n",
      "  2.  3.7 2.3 2. ]\n",
      " [3.7 2.  3.7 1.3 3.  3.7 3.7 3.7 3.3 3.7 3.7 4.  4.  3.7 2.7 3.7 3.7 4.\n",
      "  2.7 4.  2.3 2.3]\n",
      " [4.  3.  2.3 3.  3.  3.7 2.  2.7 3.7 4.  2.3 3.7 2.7 4.  3.7 4.  2.7 4.\n",
      "  2.7 3.7 2.7 3.7]\n",
      " [3.7 2.7 3.3 1.7 1.7 2.7 2.3 2.7 4.  3.7 1.3 4.  2.7 3.7 1.  3.3 2.7 3.\n",
      "  2.3 3.7 1.3 2. ]\n",
      " [3.7 2.  3.7 2.3 1.7 4.  2.7 3.3 3.7 3.7 3.7 4.  3.3 3.7 3.7 4.  3.7 4.\n",
      "  4.  4.  3.7 3.7]\n",
      " [3.  2.  3.7 2.  2.7 3.  1.3 2.  3.3 3.7 3.7 2.7 3.3 3.3 3.7 2.3 1.7 3.\n",
      "  1.7 2.7 1.3 1. ]\n",
      " [4.  1.7 3.7 1.7 3.  3.7 2.3 3.7 3.7 3.7 1.7 4.  3.3 4.  3.7 3.7 3.  3.7\n",
      "  2.3 4.  3.3 3.3]\n",
      " [4.  2.  3.7 2.3 3.7 4.  2.7 3.7 3.7 4.  2.  3.7 2.7 3.7 4.  3.3 2.7 3.7\n",
      "  2.7 4.  3.7 3.3]\n",
      " [3.7 1.7 2.7 1.  2.7 3.3 2.7 3.7 3.  3.7 2.  3.  3.7 2.7 2.7 2.7 2.3 3.7\n",
      "  2.3 4.  1.  2.7]\n",
      " [3.7 1.7 4.  1.3 3.7 4.  3.  3.7 3.7 4.  3.  3.7 3.7 4.  4.  3.7 3.7 4.\n",
      "  3.3 4.  3.  3.3]\n",
      " [2.7 1.7 2.  1.  1.  2.3 1.3 3.  3.3 1.3 1.  3.3 1.  2.7 1.  1.3 2.3 3.3\n",
      "  2.  2.  1.3 1. ]\n",
      " [4.  1.7 4.  2.3 3.7 4.  3.7 4.  4.  4.  3.  3.7 4.  3.7 3.7 3.7 3.3 4.\n",
      "  3.7 3.7 3.  3.7]\n",
      " [3.3 2.  3.7 1.7 3.7 3.3 3.7 3.7 4.  4.  3.3 4.  3.7 4.  3.7 3.7 3.7 4.\n",
      "  3.3 3.7 3.3 4. ]\n",
      " [3.3 2.  3.  1.3 2.7 1.7 1.7 1.7 1.7 3.7 1.3 3.7 2.7 1.3 3.3 2.7 1.7 2.7\n",
      "  1.7 3.7 1.  1.3]\n",
      " [3.  3.3 2.7 2.  3.7 3.7 1.3 2.3 3.  2.  2.  3.  3.  3.7 2.3 2.7 2.3 3.\n",
      "  1.7 3.3 2.3 2. ]\n",
      " [3.3 2.3 2.7 2.3 1.7 3.7 2.7 2.3 3.7 2.3 2.7 3.7 1.3 4.  2.7 3.3 1.  3.7\n",
      "  2.7 3.7 3.3 2.7]]\n"
     ]
    }
   ],
   "source": [
    "from sklearn.impute import SimpleImputer\n",
    "imputer=SimpleImputer(missing_values=np.nan,strategy='most_frequent')\n",
    "imputer.fit(X2[:,1:23])\n",
    "X2[:,1:23]=imputer.transform(X2[:,1:23])\n",
    "print(X2[1:23])"
   ]
  },
  {
   "cell_type": "code",
   "execution_count": 5,
   "metadata": {
    "colab": {
     "base_uri": "https://localhost:8080/"
    },
    "id": "Vi9g8KFmlQYP",
    "outputId": "da8c7593-9aba-409e-8e66-d2046ea5a108"
   },
   "outputs": [
    {
     "name": "stdout",
     "output_type": "stream",
     "text": [
      "[[4.  2.3 3.7 ... 2.7 2.7 1.7]\n",
      " [2.3 1.3 3.  ... 3.3 3.3 2.3]\n",
      " [3.3 2.  4.  ... 3.  3.7 2.7]\n",
      " ...\n",
      " [3.7 3.7 4.  ... 4.  3.7 3.7]\n",
      " [4.  4.  4.  ... 3.7 4.  4. ]\n",
      " [3.7 2.3 4.  ... 2.7 3.3 4. ]]\n"
     ]
    }
   ],
   "source": [
    "from sklearn.model_selection import train_test_split\n",
    "X2_train,X2_test,y2_train,y2_test=train_test_split(X2,y2,test_size=0.1,random_state=0)\n",
    "print(X2_train)"
   ]
  },
  {
   "cell_type": "markdown",
   "metadata": {
    "id": "U7p1ysAzLUGW"
   },
   "source": [
    "training model 2 on linear regression"
   ]
  },
  {
   "cell_type": "code",
   "execution_count": 8,
   "metadata": {
    "colab": {
     "base_uri": "https://localhost:8080/"
    },
    "id": "7sw7Z7agLbWS",
    "outputId": "f64390d7-3d96-4b62-df45-1c186b3664c6"
   },
   "outputs": [],
   "source": [
    "from sklearn.linear_model import LinearRegression\n",
    "regressor1 = LinearRegression()\n",
    "regressor1.fit(X2_train, y2_train)\n",
    "with open(\"two_year_pred_model_one.pkl\",\"wb\") as file:\n",
    "    pickle.dump(regressor1,file)"
   ]
  },
  {
   "cell_type": "code",
   "execution_count": 9,
   "metadata": {
    "id": "6zyiiEgNLipF"
   },
   "outputs": [],
   "source": [
    "y_pred_linear = regressor1.predict(X2_test)"
   ]
  },
  {
   "cell_type": "code",
   "execution_count": 10,
   "metadata": {
    "colab": {
     "base_uri": "https://localhost:8080/"
    },
    "id": "Bfdn1BrNLveP",
    "outputId": "fd606435-f85e-4825-d280-a632215b485f"
   },
   "outputs": [
    {
     "data": {
      "text/plain": [
       "0.9130113829812101"
      ]
     },
     "execution_count": 10,
     "metadata": {},
     "output_type": "execute_result"
    }
   ],
   "source": [
    "from sklearn.metrics import r2_score\n",
    "r2_score(y2_test,y_pred_linear)"
   ]
  },
  {
   "cell_type": "markdown",
   "metadata": {
    "id": "PugGXnp_LB-d"
   },
   "source": []
  },
  {
   "cell_type": "code",
   "execution_count": 11,
   "metadata": {
    "colab": {
     "base_uri": "https://localhost:8080/"
    },
    "id": "ATmDrVQdlUjN",
    "outputId": "bcd8b4cd-7fa3-42f3-aef5-c1d53eb37d69"
   },
   "outputs": [],
   "source": [
    "from sklearn.ensemble import RandomForestRegressor\n",
    "regressor2 = RandomForestRegressor(n_estimators=20,random_state=0)\n",
    "regressor2.fit(X2_train, y2_train)\n",
    "with open(\"two_year_pred_model_two.pkl\",\"wb\") as file:\n",
    "    pickle.dump(regressor2,file)"
   ]
  },
  {
   "cell_type": "code",
   "execution_count": 12,
   "metadata": {
    "id": "rVYr4e73l3Dx"
   },
   "outputs": [],
   "source": [
    "y_pred_rfr=regressor2.predict(X2_test)"
   ]
  },
  {
   "cell_type": "code",
   "execution_count": 13,
   "metadata": {
    "colab": {
     "base_uri": "https://localhost:8080/"
    },
    "id": "cZRHeMl4mBil",
    "outputId": "6ffc80e3-5c61-4835-ce04-d18b7b285cba"
   },
   "outputs": [
    {
     "data": {
      "text/plain": [
       "0.9315948122387205"
      ]
     },
     "execution_count": 13,
     "metadata": {},
     "output_type": "execute_result"
    }
   ],
   "source": [
    "from sklearn.metrics import r2_score\n",
    "r2_score(y2_test,y_pred_rfr)"
   ]
  },
  {
   "cell_type": "code",
   "execution_count": null,
   "metadata": {},
   "outputs": [],
   "source": []
  }
 ],
 "metadata": {
  "colab": {
   "name": "Model-2.ipynb",
   "provenance": []
  },
  "kernelspec": {
   "display_name": "Python 3 (ipykernel)",
   "language": "python",
   "name": "python3"
  },
  "language_info": {
   "codemirror_mode": {
    "name": "ipython",
    "version": 3
   },
   "file_extension": ".py",
   "mimetype": "text/x-python",
   "name": "python",
   "nbconvert_exporter": "python",
   "pygments_lexer": "ipython3",
   "version": "3.9.12"
  }
 },
 "nbformat": 4,
 "nbformat_minor": 1
}
