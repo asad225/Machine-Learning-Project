{
 "cells": [
  {
   "cell_type": "markdown",
   "metadata": {
    "id": "Z-155jTNWuRA"
   },
   "source": [
    "MODEL 1 ON LINEAR REGRESSION AND SUPPORTED VECTOR REGRESSION CS-19132 CS-19134 CS-19142 "
   ]
  },
  {
   "cell_type": "markdown",
   "metadata": {
    "id": "YJWCmOjoJP82"
   },
   "source": [
    "importing libraries"
   ]
  },
  {
   "cell_type": "code",
   "execution_count": 10,
   "metadata": {
    "id": "ZywiE5UxWvtl"
   },
   "outputs": [],
   "source": [
    "import numpy as np\n",
    "import pandas as pd\n",
    "import pickle"
   ]
  },
  {
   "cell_type": "markdown",
   "metadata": {
    "id": "ElVDvDEfWyaQ"
   },
   "source": [
    "Importing Dataset for Model-1"
   ]
  },
  {
   "cell_type": "code",
   "execution_count": 3,
   "metadata": {
    "id": "6oXMOe2i_OWV"
   },
   "outputs": [],
   "source": [
    "dataset = pd.read_csv('The_Grades_Dataset.csv')\n",
    "for column in dataset:\n",
    "    dataset[column]=dataset[column].replace('A+',4.0)\n",
    "    dataset[column]=dataset[column].replace('A',4.0)\n",
    "    dataset[column]=dataset[column].replace('A-',3.7)\n",
    "    dataset[column]=dataset[column].replace('B+',3.3)\n",
    "    dataset[column]=dataset[column].replace('B',3.0)\n",
    "    dataset[column]=dataset[column].replace('B-',2.7)\n",
    "    dataset[column]=dataset[column].replace('C+',2.3)\n",
    "    dataset[column]=dataset[column].replace('C',2.0)\n",
    "    dataset[column]=dataset[column].replace('C-',1.7)\n",
    "    dataset[column]=dataset[column].replace('D+',1.3)\n",
    "    dataset[column]=dataset[column].replace('D',1.0)\n",
    "    dataset[column]=dataset[column].replace('D-',0.7)\n",
    "    dataset[column]=dataset[column].replace('WU',0)\n",
    "    dataset[column]=dataset[column].replace('W',0)\n",
    "    dataset[column]=dataset[column].replace('F',0)\n",
    "    dataset[column]=dataset[column].replace('I',0)"
   ]
  },
  {
   "cell_type": "code",
   "execution_count": 4,
   "metadata": {
    "id": "Zkr94jMhW5r5"
   },
   "outputs": [],
   "source": [
    "X1 = dataset.iloc[:, 1:12].values\n",
    "y1 = dataset.iloc[:, -1].values"
   ]
  },
  {
   "cell_type": "markdown",
   "metadata": {
    "id": "3vOWC07NXFuf"
   },
   "source": [
    "Encoding dataset for Model 1"
   ]
  },
  {
   "cell_type": "code",
   "execution_count": 5,
   "metadata": {
    "colab": {
     "base_uri": "https://localhost:8080/"
    },
    "id": "qBSXGhDfXsbD",
    "outputId": "6ebbb680-7251-4eb6-f68f-6c1753226448"
   },
   "outputs": [
    {
     "name": "stdout",
     "output_type": "stream",
     "text": [
      "[[2.7 1.3 1.7 ... 2.7 1.7 1.7]\n",
      " [4.  1.  1.3 ... 1.3 1.  3.3]\n",
      " [4.  3.  4.  ... 3.7 3.7 2.7]\n",
      " ...\n",
      " [3.  4.  3.7 ... 4.  3.  4. ]\n",
      " [4.  3.3 1.  ... 2.7 1.7 4. ]\n",
      " [2.  1.  1.  ... 2.  1.3 2.7]]\n"
     ]
    }
   ],
   "source": [
    "print(X1)"
   ]
  },
  {
   "cell_type": "markdown",
   "metadata": {
    "id": "IkSVLff9Zfsq"
   },
   "source": [
    "Handling Missing Values for Model 1"
   ]
  },
  {
   "cell_type": "code",
   "execution_count": 6,
   "metadata": {
    "id": "Ad4uvfyfZjFt"
   },
   "outputs": [],
   "source": [
    "from sklearn.impute import SimpleImputer\n",
    "imputer=SimpleImputer(missing_values=np.nan,strategy='most_frequent')\n",
    "imputer.fit(X1[:,1:12])\n",
    "X1[:,1:12]=imputer.transform(X1[:,1:12])"
   ]
  },
  {
   "cell_type": "code",
   "execution_count": 7,
   "metadata": {
    "colab": {
     "base_uri": "https://localhost:8080/"
    },
    "id": "ii_vofb8aSzT",
    "outputId": "ed6d1e00-41f0-4b66-82ee-eaf38eba6867"
   },
   "outputs": [
    {
     "name": "stdout",
     "output_type": "stream",
     "text": [
      "[[2.7 1.3 1.7 ... 2.7 1.7 1.7]\n",
      " [4.  1.  1.3 ... 1.3 1.  3.3]\n",
      " [4.  3.  4.  ... 3.7 3.7 2.7]\n",
      " ...\n",
      " [3.  4.  3.7 ... 4.  3.  4. ]\n",
      " [4.  3.3 1.  ... 2.7 1.7 4. ]\n",
      " [2.  1.  1.  ... 2.  1.3 2.7]]\n"
     ]
    }
   ],
   "source": [
    "print(X1)"
   ]
  },
  {
   "cell_type": "markdown",
   "metadata": {
    "id": "SRBe32a_X_Qo"
   },
   "source": [
    "Splitting Dataset"
   ]
  },
  {
   "cell_type": "code",
   "execution_count": 8,
   "metadata": {
    "colab": {
     "base_uri": "https://localhost:8080/"
    },
    "id": "UIPZHd-UYAxr",
    "outputId": "58b361e0-a340-4290-a879-bac607e73b08"
   },
   "outputs": [
    {
     "name": "stdout",
     "output_type": "stream",
     "text": [
      "[[4.  3.7 3.3 ... 3.7 2.  4. ]\n",
      " [4.  3.3 4.  ... 3.7 4.  4. ]\n",
      " [1.7 1.3 2.7 ... 3.3 2.3 1.7]\n",
      " ...\n",
      " [3.7 3.7 4.  ... 3.3 3.3 4. ]\n",
      " [4.  4.  4.  ... 3.7 4.  4. ]\n",
      " [3.7 2.3 4.  ... 3.  3.7 3.7]]\n"
     ]
    }
   ],
   "source": [
    "from sklearn.model_selection import train_test_split\n",
    "X1_train,X1_test,y1_train,y1_test=train_test_split(X1,y1,test_size=0.2,random_state=0)\n",
    "print(X1_train)\n"
   ]
  },
  {
   "cell_type": "markdown",
   "metadata": {
    "id": "MB9jW6Tpaydc"
   },
   "source": [
    "Training our Model 1 on linear reg"
   ]
  },
  {
   "cell_type": "code",
   "execution_count": 11,
   "metadata": {
    "colab": {
     "base_uri": "https://localhost:8080/"
    },
    "id": "PYBuFJLMYkHs",
    "outputId": "a69328e3-a627-47b1-fbb6-db066e60cacc"
   },
   "outputs": [],
   "source": [
    "from sklearn.linear_model import LinearRegression\n",
    "Regressor1=LinearRegression()\n",
    "Regressor1.fit(X1_train,y1_train)\n",
    "with open(\"one_year_pred_model_one.pkl\",\"wb\") as file:\n",
    "    pickle.dump(Regressor1,file)"
   ]
  },
  {
   "cell_type": "markdown",
   "metadata": {
    "id": "8QGi63RUa2kF"
   },
   "source": [
    "testing our dataset on linear regression "
   ]
  },
  {
   "cell_type": "code",
   "execution_count": 12,
   "metadata": {
    "id": "i4Z14Y41a4_y"
   },
   "outputs": [],
   "source": [
    "\n",
    "y1_pred_linear=Regressor1.predict(X1_test)"
   ]
  },
  {
   "cell_type": "code",
   "execution_count": 13,
   "metadata": {
    "colab": {
     "base_uri": "https://localhost:8080/"
    },
    "id": "VBo42O6wb8gq",
    "outputId": "f5cf653f-46cb-49f3-8ce4-36a33283e204"
   },
   "outputs": [
    {
     "data": {
      "text/plain": [
       "0.8144924366365484"
      ]
     },
     "execution_count": 13,
     "metadata": {},
     "output_type": "execute_result"
    }
   ],
   "source": [
    "from sklearn.metrics import r2_score\n",
    "r2_score(y1_test,y1_pred_linear)"
   ]
  },
  {
   "cell_type": "markdown",
   "metadata": {
    "id": "fP43sv41IsWx"
   },
   "source": [
    "training our model on SVR"
   ]
  },
  {
   "cell_type": "code",
   "execution_count": 14,
   "metadata": {
    "colab": {
     "base_uri": "https://localhost:8080/"
    },
    "id": "0CAhPzQiHpLu",
    "outputId": "43a91430-d022-4452-f94a-e48319fcd673"
   },
   "outputs": [],
   "source": [
    "from sklearn.svm import SVR\n",
    "regressor2=SVR(kernel='linear') \n",
    "regressor2.fit(X1_train,y1_train)\n",
    "with open(\"one_year_pred_model_two.pkl\",\"wb\") as file:\n",
    "    pickle.dump(regressor2,file)"
   ]
  },
  {
   "cell_type": "code",
   "execution_count": 15,
   "metadata": {
    "id": "p9_696XxIvW0"
   },
   "outputs": [],
   "source": [
    "y1_pred_svr=regressor2.predict(X1_test)\n"
   ]
  },
  {
   "cell_type": "code",
   "execution_count": 16,
   "metadata": {
    "colab": {
     "base_uri": "https://localhost:8080/"
    },
    "id": "Y3oFCX_XJF3z",
    "outputId": "9e942a0c-730f-45c3-9ced-eea1552855af"
   },
   "outputs": [
    {
     "data": {
      "text/plain": [
       "0.8261957234331605"
      ]
     },
     "execution_count": 16,
     "metadata": {},
     "output_type": "execute_result"
    }
   ],
   "source": [
    "from sklearn.metrics import r2_score\n",
    "r2_score(y1_test,y1_pred_svr)\n"
   ]
  },
  {
   "cell_type": "code",
   "execution_count": null,
   "metadata": {
    "colab": {
     "base_uri": "https://localhost:8080/"
    },
    "id": "tPsawgMGGVxT",
    "outputId": "c83a0cfe-d24c-4cb3-cfd3-643398c2fa98"
   },
   "outputs": [],
   "source": [
    "\n"
   ]
  },
  {
   "cell_type": "code",
   "execution_count": null,
   "metadata": {
    "id": "8E7ucX68Giqc"
   },
   "outputs": [],
   "source": []
  },
  {
   "cell_type": "code",
   "execution_count": null,
   "metadata": {
    "colab": {
     "base_uri": "https://localhost:8080/",
     "height": 356
    },
    "id": "SVdt3QOKGq9d",
    "outputId": "6469c657-bee3-4f34-b255-09cbfa508978"
   },
   "outputs": [],
   "source": [
    "\n",
    "\n",
    "\n"
   ]
  },
  {
   "cell_type": "code",
   "execution_count": null,
   "metadata": {
    "colab": {
     "base_uri": "https://localhost:8080/",
     "height": 767
    },
    "id": "DgTPrqKQGlRj",
    "outputId": "48403c6e-3ba4-406f-dd2b-597f9445620c"
   },
   "outputs": [],
   "source": []
  },
  {
   "cell_type": "code",
   "execution_count": null,
   "metadata": {},
   "outputs": [],
   "source": []
  }
 ],
 "metadata": {
  "colab": {
   "collapsed_sections": [],
   "name": "Model_1.ipynb",
   "provenance": []
  },
  "kernelspec": {
   "display_name": "Python 3 (ipykernel)",
   "language": "python",
   "name": "python3"
  },
  "language_info": {
   "codemirror_mode": {
    "name": "ipython",
    "version": 3
   },
   "file_extension": ".py",
   "mimetype": "text/x-python",
   "name": "python",
   "nbconvert_exporter": "python",
   "pygments_lexer": "ipython3",
   "version": "3.9.12"
  }
 },
 "nbformat": 4,
 "nbformat_minor": 1
}
